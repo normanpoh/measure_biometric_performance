{
 "cells": [
  {
   "cell_type": "markdown",
   "metadata": {
    "pycharm": {
     "name": "#%%\n"
    }
   },
   "source": [
    "# Tutorial: How to measure biometric performance\n",
    "\n",
    "This tutorial provides a simple implementation of https://normanpoh.github.io/blog/2017/12/29/generate-pairwise-fprint-scores.html"
   ]
  },
  {
   "cell_type": "code",
   "execution_count": 1,
   "metadata": {
    "pycharm": {
     "name": "#%%\n"
    }
   },
   "outputs": [],
   "source": [
    "import pandas as pd # just for loading csv file\n",
    "import numpy as np\n",
    "from sklearn import metrics\n",
    "%matplotlib notebook "
   ]
  },
  {
   "cell_type": "code",
   "execution_count": 2,
   "metadata": {
    "pycharm": {
     "name": "#%%\n"
    }
   },
   "outputs": [],
   "source": [
    "# define the required functions\n",
    "\n",
    "def perf_get_far_frr(scores_imp, scores_gen, reverse_sign=False):\n",
    "    \"\"\"\n",
    "    Given a pair of scores, return FAR and FRR\n",
    "\n",
    "    :param scores_imp:\n",
    "    :param scores_gen:\n",
    "    :param reverse_sign: set tot True for distance scores\n",
    "    :return:\n",
    "    \"\"\"\n",
    "    if reverse_sign:\n",
    "        scores_ = -1 * np.concatenate((scores_gen, scores_imp), axis=0)\n",
    "    else:\n",
    "        scores_ = np.concatenate((scores_gen, scores_imp), axis=0)\n",
    "\n",
    "    label_ = np.concatenate(\n",
    "        (np.ones(scores_gen.shape), np.zeros(scores_imp.shape)), axis=0\n",
    "    )\n",
    "    fpr, tpr, thresholds = metrics.roc_curve(label_, scores_, pos_label=1)\n",
    "    far = fpr\n",
    "    frr = 1 - tpr\n",
    "\n",
    "    if reverse_sign:\n",
    "        # we also remove the first item\n",
    "        thresholds = -thresholds[1:]\n",
    "        far = far[1:]\n",
    "        frr = frr[1:]\n",
    "    return far, frr, thresholds\n",
    "\n",
    "\n",
    "def perf_get_scores(D: np.ndarray, label_keys: list):\n",
    "    \"\"\"\n",
    "    :param D: A square distance matrix\n",
    "    :param label_keys: a list of random key representation of the identities. len(label_keys)\n",
    "    :return: nonmated_scores, mated_scores\n",
    "    \"\"\"\n",
    "    # __import__(\"ipdb\").set_trace()\n",
    "    label_keys = np.array(label_keys).reshape(\n",
    "        -1, 1\n",
    "    )  # we need to rearrange type here for sklearn.pairwise to use\n",
    "\n",
    "    # compute mask for the genuine scores from the key\n",
    "    mask = metrics.pairwise.pairwise_distances(label_keys)\n",
    "    mask_gen = np.asarray(mask < 0.0001) * 1.0\n",
    "    mask_gen = np.triu(mask_gen) - np.identity(mask_gen.shape[0])\n",
    "\n",
    "    # plt.imshow(mask_gen)\n",
    "    # plt.colorbar()\n",
    "    # plt.show()\n",
    "\n",
    "    # compute mask for impostor\n",
    "    mask_imp = np.ones(mask_gen.shape) - mask_gen - np.identity(mask_gen.shape[0])\n",
    "    mask_imp = np.triu(mask_imp)\n",
    "    # plt.imshow(mask_imp); plt.colorbar(); plt.show()\n",
    "\n",
    "    # just checking\n",
    "    # plt.imshow(mask_imp+mask_gen)\n",
    "\n",
    "    # scores are symmetrical and so we need only half of them\n",
    "    # plt.imshow(np.multiply(D, mask_gen));\n",
    "    # plt.colorbar()\n",
    "\n",
    "    indice_gen = np.nonzero(mask_gen)\n",
    "    mated_scores = D[indice_gen[0], indice_gen[1]]\n",
    "\n",
    "    indice_imp = np.nonzero(mask_imp)\n",
    "    nonmated_scores = D[indice_imp[0], indice_imp[1]]\n",
    "\n",
    "    return nonmated_scores, mated_scores\n",
    "\n",
    "\n",
    "def get_metrics(far, frr, thresholds, far_list=None):\n",
    "    if far_list is None:\n",
    "        far_list = [0.1, 0.05, 0.03, 0.01, 0.001, 0.0001]\n",
    "\n",
    "    __index_eer = np.argmin(abs(far - frr), axis=0)\n",
    "\n",
    "    res = {\n",
    "        \"eer\": (far[__index_eer] + frr[__index_eer]) / 2,\n",
    "        \"eer_thrd\": thresholds[__index_eer]\n",
    "    }\n",
    "\n",
    "    def compute_frr_at_far(self_frr, self_far, far_list, tag=\"frr@far={}%\"):\n",
    "        frr_at_far = [\n",
    "            self_frr[np.argmin(np.abs(self_far - far))] for far in far_list\n",
    "        ]\n",
    "        frr_labels = [tag.format(x * 100) for x in far_list]\n",
    "        return dict(zip(frr_labels, frr_at_far))\n",
    "\n",
    "    # Compute frr@frr\n",
    "    res_frr = compute_frr_at_far(\n",
    "        frr, far, far_list, tag=\"frr@far={}%\"\n",
    "    )\n",
    "    res.update(res_frr)\n",
    "    return res"
   ]
  },
  {
   "cell_type": "code",
   "execution_count": 3,
   "metadata": {
    "pycharm": {
     "name": "#%%\n"
    }
   },
   "outputs": [],
   "source": [
    "# Load the data\n",
    "df = pd.read_csv('MegaFace_1k.csv')\n",
    "df = df.set_index('labels')\n",
    "\n",
    "# Compute exhaustive pairwise distance\n",
    "D = metrics.pairwise.pairwise_distances(df)\n",
    "\n",
    "# get nonmated and mated scores. Nonmated scores are non-causal scores, \n",
    "# which are results of comparing two features belonging to different people.\n",
    "# Mated scores are causal scores, which are results of comparing two\n",
    "# features of the same person\n",
    "\n",
    "nonmated_scores, mated_scores = perf_get_scores(D, df.index, )\n",
    "\n",
    "# Compute FAR, FRR, threshold\n",
    "far, frr, thresholds = perf_get_far_frr(nonmated_scores, mated_scores, reverse_sign=True)\n",
    "\n",
    "# Compute key metrics\n",
    "res = get_metrics(far, frr, thresholds)\n",
    "\n"
   ]
  },
  {
   "cell_type": "code",
   "execution_count": 4,
   "metadata": {},
   "outputs": [
    {
     "name": "stdout",
     "output_type": "stream",
     "text": [
      "eer \t: 0.0346475985572306\n",
      "eer_thrd \t: 0.6317419752426177\n",
      "frr@far=10.0% \t: 0.021853805576488305\n",
      "frr@far=5.0% \t: 0.029389600602863553\n",
      "frr@far=3.0% \t: 0.03466465712132627\n",
      "frr@far=1.0% \t: 0.06330067822155239\n",
      "frr@far=0.1% \t: 0.1906556141672946\n",
      "frr@far=0.01% \t: 0.86586284853052\n"
     ]
    }
   ],
   "source": [
    "for k, v in res.items():\n",
    "    print(f\"{k} \\t: {v}\")"
   ]
  },
  {
   "cell_type": "code",
   "execution_count": null,
   "outputs": [],
   "source": [],
   "metadata": {
    "collapsed": false,
    "pycharm": {
     "name": "#%%\n"
    }
   }
  },
  {
   "cell_type": "code",
   "execution_count": null,
   "metadata": {},
   "outputs": [],
   "source": []
  }
 ],
 "metadata": {
  "kernelspec": {
   "display_name": "Python 3",
   "language": "python",
   "name": "python3"
  },
  "language_info": {
   "codemirror_mode": {
    "name": "ipython",
    "version": 3
   },
   "file_extension": ".py",
   "mimetype": "text/x-python",
   "name": "python",
   "nbconvert_exporter": "python",
   "pygments_lexer": "ipython3",
   "version": "3.7.7"
  }
 },
 "nbformat": 4,
 "nbformat_minor": 1
}