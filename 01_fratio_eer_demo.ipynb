{
 "cells": [
  {
   "cell_type": "code",
   "execution_count": 1,
   "metadata": {},
   "outputs": [],
   "source": [
    "from ipywidgets import interact, interactive, fixed, interact_manual, widgets"
   ]
  },
  {
   "cell_type": "markdown",
   "metadata": {},
   "source": [
    "# Understanding EER\n",
    "\n",
    "How to estimate EER assuming that class-conditional - mated  and nonmated score distributions - are Gaussian?\n",
    "\n",
    "Define F-ratio:\n",
    "$$\n",
    " \\mbox{F-ratio} = \\frac {\\mu^C - \\mu^I}  {\\sigma^C + \\sigma^I}\n",
    " $$\n",
    "and the error function:\n",
    " $$ \\mbox{erf}(z) =  { 2\\over \\sqrt{\\pi}} \\int_0^z \\mbox{exp} \\left [ - t^2 \\right ] dt$$\n",
    " \n",
    "The EER has a closed form solution:\n",
    " $$  \\mbox{EER} = {\\frac 1  2} - { \\frac 1 2} \\mbox{erf} \\left ( \\frac {\\mbox{F-ratio}} {\\sqrt{2} }   \\right ) \\equiv \\mbox{eer}(\\mbox{F-ratio}) $$\n",
    " \n",
    " The threshold giving rise to EER is:\n",
    " $$\n",
    " \\Delta = \\frac { \\mu^I \\sigma^C + \\mu^C \\sigma^I}{ \\sigma^I + \\sigma^C}\n",
    " $$\n",
    " \n",
    " Source: \n",
    " [Norman Poh, Multi-system Biometric Authentication: Optimal Fusion and User-Specific Information. PhD Thesis, EPFL, 2006.](https://infoscience.epfl.ch/record/146199)"
   ]
  },
  {
   "cell_type": "code",
   "execution_count": 8,
   "metadata": {},
   "outputs": [],
   "source": [
    "import numpy as np\n",
    "import matplotlib.pyplot as plt\n",
    "import scipy.special\n",
    "\n",
    "def _gaussian(x, mu, sig):\n",
    "    return np.exp(-np.power(x - mu, 2.) / (2 * np.power(sig, 2.)))\n",
    "\n",
    "\n",
    "x_values = np.linspace(-15, 15, 100)\n",
    "\n",
    "def eer(f_ratio):\n",
    "    return 0.5 - 0.5 * scipy.special.erf(f_ratio / np.sqrt(2))\n",
    "\n",
    "\n",
    "\n",
    "def two_distributions(m0, sigma0, m1, sigma1):\n",
    "    mean_ = [m0, m1]\n",
    "    std_ = [sigma0, sigma1]\n",
    "\n",
    "    fig = plt.figure(figsize=(15, 8))\n",
    "    for mu, sig in zip(mean_, std_):\n",
    "        plt.fill_between(x_values, _gaussian(x_values, mu, sig), alpha=0.3)\n",
    "        plt.plot(x_values, _gaussian(x_values, mu, sig))\n",
    "\n",
    "    \n",
    "    thrd = (m1*sigma0 + m0*sigma1)/ (sigma0+sigma1)\n",
    "    \n",
    "    fratio = (m1-m0)/ (sigma0+sigma1)\n",
    "    plt.plot([thrd, thrd], [0, 1], '--')\n",
    "    plt.title(f\"EER = {eer(fratio): 1.5%},    f-ratio={fratio:1.2f}\")\n",
    "    plt.show()"
   ]
  },
  {
   "cell_type": "code",
   "execution_count": 9,
   "metadata": {},
   "outputs": [
    {
     "data": {
      "application/vnd.jupyter.widget-view+json": {
       "model_id": "9c7cd9cef5194d2aa3f0e5b05a5d3984",
       "version_major": 2,
       "version_minor": 0
      },
      "text/plain": [
       "interactive(children=(IntSlider(value=-3, description='m0', max=10, min=-10), IntSlider(value=2, description='…"
      ]
     },
     "metadata": {},
     "output_type": "display_data"
    }
   ],
   "source": [
    "interact(\n",
    "    two_distributions,\n",
    "    m0=widgets.IntSlider(min=-10,max=+10,step=1,value=-3),\n",
    "    sigma0=widgets.IntSlider(min=1,max=+5,step=1,value=2),\n",
    "    m1=widgets.IntSlider(min=-10,max=+10,step=1,value=3),\n",
    "    sigma1=widgets.IntSlider(min=1,max=+5,step=1,value=2)\n",
    ");"
   ]
  },
  {
   "cell_type": "code",
   "execution_count": 4,
   "metadata": {},
   "outputs": [
    {
     "data": {
      "text/plain": [
       "[<matplotlib.lines.Line2D at 0x7faee5c17cd0>]"
      ]
     },
     "execution_count": 4,
     "metadata": {},
     "output_type": "execute_result"
    },
    {
     "data": {
      "image/png": "[encoded data removed]",
      "text/plain": [
       "<Figure size 1080x576 with 1 Axes>"
      ]
     },
     "metadata": {
      "needs_background": "light"
     },
     "output_type": "display_data"
    }
   ],
   "source": [
    "fig = plt.figure(figsize=(15, 8))\n",
    "fratio = np.linspace(0, 5, 100)\n",
    "plt.xlabel(\"F ratio\")\n",
    "plt.ylabel(\"EER (%)\")\n",
    "\n",
    "plt.plot(fratio, eer(fratio) * 100)"
   ]
  },
  {
   "cell_type": "markdown",
   "metadata": {},
   "source": [
    "# Simulate fusion with $n$ independent samples"
   ]
  },
  {
   "cell_type": "code",
   "execution_count": 6,
   "metadata": {},
   "outputs": [
    {
     "data": {
      "application/vnd.jupyter.widget-view+json": {
       "model_id": "9869e01f7feb44658eb7b7a4a175c130",
       "version_major": 2,
       "version_minor": 0
      },
      "text/plain": [
       "interactive(children=(IntSlider(value=-3, description='m0', max=10, min=-10), IntSlider(value=3, description='…"
      ]
     },
     "metadata": {},
     "output_type": "display_data"
    }
   ],
   "source": [
    "def two_distributions_with_fusion(m0, sigma0, m1, sigma1, n):\n",
    "    mean_ = [m0, m1, m0, m1]\n",
    "    \n",
    "    # The std of the fused score\n",
    "    sigma0_ = np.sqrt(sigma0 ** 2 / n)\n",
    "    sigma1_ = np.sqrt(sigma1 ** 2 / n)\n",
    "    \n",
    "    std_ = [sigma0, sigma1, sigma0_, sigma1_]\n",
    "\n",
    "    fig = plt.figure(figsize=(15, 8))\n",
    "    for mu, sig in zip(mean_, std_):\n",
    "        plt.fill_between(x_values, _gaussian(x_values, mu, sig), alpha=0.1)\n",
    "        plt.plot(x_values, _gaussian(x_values, mu, sig))\n",
    "\n",
    "    \n",
    "    fratio = (m1-m0)/ (sigma0+sigma1)\n",
    "    fratio_ = (m1-m0)/ (sigma0_+sigma1_)\n",
    "    \n",
    "    gain = eer(fratio)/eer(fratio_)\n",
    "    \n",
    "    plt.title(f\"EER = {eer(fratio): 1.5%}   EER_com = {eer(fratio_): 1.5%}   Gain = {gain:0.2f}\")\n",
    "    plt.show()\n",
    "    \n",
    "interact(\n",
    "    two_distributions_with_fusion,\n",
    "    m0=widgets.IntSlider(min=-10,max=+10,step=1,value=-3),\n",
    "    sigma0=widgets.IntSlider(min=1,max=+5,step=1,value=3),\n",
    "    m1=widgets.IntSlider(min=-10,max=+10,step=1,value=3),\n",
    "    sigma1=widgets.IntSlider(min=1,max=+5,step=1,value=3),\n",
    "    n=widgets.IntSlider(min=1,max=+10,step=1,value=2)\n",
    ");\n",
    "    "
   ]
  },
  {
   "cell_type": "code",
   "execution_count": null,
   "metadata": {},
   "outputs": [],
   "source": []
  }
 ],
 "metadata": {
  "kernelspec": {
   "display_name": "Python 3",
   "language": "python",
   "name": "python3"
  },
  "language_info": {
   "codemirror_mode": {
    "name": "ipython",
    "version": 3
   },
   "file_extension": ".py",
   "mimetype": "text/x-python",
   "name": "python",
   "nbconvert_exporter": "python",
   "pygments_lexer": "ipython3",
   "version": "3.9.12"
  }
 },
 "nbformat": 4,
 "nbformat_minor": 4
}
